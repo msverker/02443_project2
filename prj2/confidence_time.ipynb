{
 "cells": [
  {
   "cell_type": "code",
   "execution_count": 22,
   "id": "6439e104",
   "metadata": {},
   "outputs": [],
   "source": [
    "from typing import List\n",
    "\n",
    "import numpy as np\n",
    "import pandas as pd\n",
    "import matplotlib.pyplot as plt\n",
    "from scipy.linalg import expm\n",
    "from scipy.integrate import odeint"
   ]
  },
  {
   "cell_type": "code",
   "execution_count": 23,
   "id": "90dadb95",
   "metadata": {},
   "outputs": [],
   "source": [
    "CSV_PATH = \"./covid-19_smitte_external/03_bekraeftede_tilfaelde_doede_indlagte_pr_dag_pr_koen.csv\"\n",
    "\n",
    "POPULATION = 5_831_000 # Statistics Denmark 2023-01-01\n",
    "INFECTIOUS_DAYS = 14 # mean days an individual is infectious\n",
    "INFECTED_LIMIT  = 0 # 2**14 # 2**16 # There need to be at least INFECTED_LIMIT infected for us to care"
   ]
  },
  {
   "cell_type": "code",
   "execution_count": 24,
   "id": "50e9d23f",
   "metadata": {},
   "outputs": [
    {
     "name": "stdout",
     "output_type": "stream",
     "text": [
      "Reading ./covid-19_smitte_external/03_bekraeftede_tilfaelde_doede_indlagte_pr_dag_pr_koen.csv\n"
     ]
    }
   ],
   "source": [
    "print(\"Reading\", CSV_PATH)\n",
    "raw = pd.read_csv(\n",
    "    CSV_PATH,\n",
    "    sep=\";\",\n",
    "    encoding=\"cp1252\", # danish chars\n",
    ")"
   ]
  },
  {
   "cell_type": "code",
   "execution_count": 25,
   "id": "94d09199",
   "metadata": {},
   "outputs": [],
   "source": [
    "cols_lower: List[str] = [c.lower() for c in raw.columns]\n",
    "\n",
    "def find_col(substrs: List[str]) -> str:\n",
    "    for col, col_lc in zip(raw.columns, cols_lower):\n",
    "        if all(s in col_lc for s in substrs):\n",
    "            return col\n",
    "    raise KeyError(f\"Column containing {substrs} not found\")\n",
    "\n",
    "col_date      = find_col([\"dato\"])\n",
    "col_confirmed = find_col([\"bekr\", \"tilf\", \"alt\"]) # new daily cases\n",
    "col_deaths    = find_col([\"døde\"]) # new daily deaths\n",
    "\n",
    "raw[col_date] = pd.to_datetime(raw[col_date], errors=\"coerce\")\n",
    "raw = raw.rename(columns={\n",
    "    col_date: \"Date\",\n",
    "    col_confirmed: \"Confirmed\",\n",
    "    col_deaths: \"Deaths\",\n",
    "})"
   ]
  },
  {
   "cell_type": "code",
   "execution_count": 26,
   "id": "4996917d",
   "metadata": {},
   "outputs": [],
   "source": [
    "daily = (\n",
    "    raw.groupby(\"Date\")[[\"Confirmed\", \"Deaths\"]]\n",
    "       .sum(min_count=1)\n",
    "       .sort_index()\n",
    ")\n",
    "\n",
    "# Reconstruct S, I, R\n",
    "cum = daily.cumsum()\n",
    "cum.columns = [\"Confirmed_cum\", \"Deaths_cum\"]\n",
    "\n",
    "new_cases = daily[\"Confirmed\"].fillna(0)\n",
    "I = new_cases.rolling(INFECTIOUS_DAYS, min_periods=1).sum()\n",
    "R = cum[\"Confirmed_cum\"] - I\n",
    "S = POPULATION - I - R\n",
    "\n",
    "series = pd.concat({\"S\": S, \"I\": I, \"R\": R}, axis=1).astype(float).clip(lower=0)\n",
    "\n",
    "# Trim to interval where I >= INFECTED_LIMIT\n",
    "valid = series[\"I\"] >= INFECTED_LIMIT\n",
    "first = valid.idxmax()\n",
    "last = valid[::-1].idxmax()\n",
    "series = series.loc[first:last]"
   ]
  },
  {
   "cell_type": "code",
   "execution_count": 27,
   "id": "c7a0db4f",
   "metadata": {},
   "outputs": [
    {
     "name": "stdout",
     "output_type": "stream",
     "text": [
      "Estimated beta = 0.1321038107327189, gamma = 0.07338095487997708  =>  R0 = 1.8002465482874916\n",
      "gamma analytic 95 % CI: 0.07200725051500535 – 0.0747546592449488\n",
      "beta analytic 95 % CI: 0.1281079297326687 – 0.1360996917327691\n",
      "R0 analytic 95 % CI: 1.7362076326272329 – 1.8642854639477504\n",
      "gamma bootstrap 95 % CI: 0.07104080362300828 – 0.07594081829256263\n",
      "beta bootstrap 95 % CI: 0.12292183915135885 – 0.14062519977552876\n",
      "R0 bootstrap 95 % CI: 1.627581940193657 – 1.9667058209533907\n"
     ]
    }
   ],
   "source": [
    "# Daily increments\n",
    "delta_I = series[\"I\"].diff()\n",
    "delta_R = series[\"R\"].diff()\n",
    "\n",
    "# Valid rows (exclude zeros/negatives and missing first‐difference)\n",
    "valid = (series[\"I\"] > 0) & (series[\"S\"] > 0)\n",
    "gamma_t = (delta_R / series[\"I\"]).where(valid).dropna()\n",
    "gamma_hat = gamma_t.mean()\n",
    "\n",
    "beta_t = (\n",
    "    (delta_I + gamma_hat * series[\"I\"]) /\n",
    "    (series[\"S\"] * series[\"I\"] / POPULATION)\n",
    ").where(valid).dropna()\n",
    "beta_hat = beta_t.mean()\n",
    "\n",
    "R0_hat = beta_hat / gamma_hat\n",
    "print(f\"Estimated beta = {beta_hat}, gamma = {gamma_hat}  =>  R0 = {R0_hat}\")\n",
    "\n",
    "# analytic (delta-method) 95 % CIs\n",
    "from scipy.stats import norm\n",
    "z = norm.ppf(0.975)\n",
    "\n",
    "n = len(gamma_t)\n",
    "se_gamma = gamma_t.std(ddof=1) / np.sqrt(n)\n",
    "se_beta  = beta_t .std(ddof=1) / np.sqrt(n)\n",
    "\n",
    "gamma_ci = (gamma_hat - z * se_gamma, gamma_hat + z * se_gamma)\n",
    "beta_ci  = (beta_hat  - z * se_beta , beta_hat  + z * se_beta)\n",
    "\n",
    "se_R0 = R0_hat * np.sqrt((se_beta / beta_hat) ** 2 + (se_gamma / gamma_hat) ** 2)\n",
    "R0_ci = (R0_hat - z * se_R0, R0_hat + z * se_R0)\n",
    "\n",
    "print(f\"gamma analytic 95 % CI: {gamma_ci[0]} – {gamma_ci[1]}\")\n",
    "print(f\"beta analytic 95 % CI: {beta_ci [0]} – {beta_ci [1]}\")\n",
    "print(f\"R0 analytic 95 % CI: {R0_ci[0]} – {R0_ci[1]}\")\n",
    "\n",
    "# block bootstrap 95 % CIs (weekly blocks)\n",
    "block_len = 7 # one-week blocks\n",
    "values = pd.DataFrame({\"gamma\": gamma_t, \"beta\": beta_t}).reset_index(drop=True)\n",
    "T = len(values)\n",
    "\n",
    "def resample_blocks():\n",
    "    idx = []\n",
    "    while len(idx) < T:\n",
    "        start = np.random.randint(0, T - block_len + 1)\n",
    "        idx.extend(range(start, start + block_len))\n",
    "    return idx[:T]\n",
    "\n",
    "B = 2000\n",
    "boot_gamma = np.empty(B)\n",
    "boot_beta  = np.empty(B)\n",
    "\n",
    "for b in range(B):\n",
    "    sample = values.iloc[resample_blocks()]\n",
    "    boot_gamma[b] = sample[\"gamma\"].mean()\n",
    "    boot_beta[b]  = sample[\"beta\" ].mean()\n",
    "\n",
    "gamma_ci_boot = np.percentile(boot_gamma, [2.5, 97.5])\n",
    "beta_ci_boot  = np.percentile(boot_beta , [2.5, 97.5])\n",
    "R0_ci_boot    = np.percentile(boot_beta / boot_gamma, [2.5, 97.5])\n",
    "\n",
    "print(f\"gamma bootstrap 95 % CI: {gamma_ci_boot[0]} – {gamma_ci_boot[1]}\")\n",
    "print(f\"beta bootstrap 95 % CI: {beta_ci_boot [0]} – {beta_ci_boot [1]}\")\n",
    "print(f\"R0 bootstrap 95 % CI: {R0_ci_boot[0]} – {R0_ci_boot[1]}\")\n"
   ]
  },
  {
   "cell_type": "code",
   "execution_count": null,
   "id": "d7ed3d3f",
   "metadata": {},
   "outputs": [],
   "source": []
  },
  {
   "cell_type": "code",
   "execution_count": null,
   "id": "5fcbed2a",
   "metadata": {},
   "outputs": [],
   "source": []
  },
  {
   "cell_type": "code",
   "execution_count": null,
   "id": "21e3a8c4",
   "metadata": {},
   "outputs": [],
   "source": []
  }
 ],
 "metadata": {
  "kernelspec": {
   "display_name": "base",
   "language": "python",
   "name": "python3"
  },
  "language_info": {
   "codemirror_mode": {
    "name": "ipython",
    "version": 3
   },
   "file_extension": ".py",
   "mimetype": "text/x-python",
   "name": "python",
   "nbconvert_exporter": "python",
   "pygments_lexer": "ipython3",
   "version": "3.12.7"
  }
 },
 "nbformat": 4,
 "nbformat_minor": 5
}
